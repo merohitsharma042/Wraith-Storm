{
  "metadata": {
    "kernelspec": {
      "name": "python",
      "display_name": "Python (Pyodide)",
      "language": "python"
    },
    "language_info": {
      "codemirror_mode": {
        "name": "python",
        "version": 3
      },
      "file_extension": ".py",
      "mimetype": "text/x-python",
      "name": "python",
      "nbconvert_exporter": "python",
      "pygments_lexer": "ipython3",
      "version": "3.8"
    }
  },
  "nbformat_minor": 5,
  "nbformat": 4,
  "cells": [
    {
      "id": "f6358f8d-1828-4ff8-ae98-2e715ccc7933",
      "cell_type": "markdown",
      "source": "# Exercise 2: Create markdown cell with title of the notebook\n\n# Data Science Tools and Ecosystem",
      "metadata": {}
    },
    {
      "id": "34be27a2-b0e4-472c-a133-620f48d216fe",
      "cell_type": "markdown",
      "source": "# Exercise 3 - Create a markdown cell for an introduction\n\n### In this notebook, Data Science Tools and Ecosystem are summarized.",
      "metadata": {}
    },
    {
      "id": "9cc0f61e-d983-44c9-8680-f3bd28197b74",
      "cell_type": "markdown",
      "source": "# Exercise 4 - Create a markdown cell to list data science languages\n\n### Some of the popular languages that Data Scientists use are:\n1. Python\n2. R\n3. SQL\n4. Julia\n5. Scala",
      "metadata": {}
    },
    {
      "id": "fa41ae9f-e146-485b-8a81-2ce0f38b8670",
      "cell_type": "markdown",
      "source": "# Exercise 5 - Create a markdown cell to list data science libraries\n\n### Some of the commonly used liabraries used by Data Scientists includes:\n1. Numpy\n2. Pandas\n3. Matplotlib\n4. Scikit-learn\n5. TensorFlow",
      "metadata": {}
    },
    {
      "id": "fca2d9de-3ae2-4788-887f-e9299c69c513",
      "cell_type": "markdown",
      "source": "# Exercise 6 - Create a markdown cell with a table of Data Science tools\n\n| Data Science Tools |\n|--------------------|\n| Jupyter Notebook |\n| RStudio |\n| Apache Zeppelin |",
      "metadata": {}
    },
    {
      "id": "85cd854c-6014-43fb-b166-e910152e36a0",
      "cell_type": "markdown",
      "source": "# Exercise 7 - Create a markdown cell introducing arithmetic expression examples\n\n### Below are a few examples of evaluating arithmetic expressions in Python\n\n1. Addition: 3+5=8\n2. subtraction: 10-4=6\n3. Multiplication: 7*6=42\n4. Division: 20/4=5.0\n5. Exponentiation: 2**3=8",
      "metadata": {}
    },
    {
      "id": "ad1a6a68-b69a-49a1-aa1c-134fc729d45c",
      "cell_type": "markdown",
      "source": "# Exercise 8 - Create a code cell to multiply and add numbers",
      "metadata": {}
    },
    {
      "id": "f7f756d5-a5fd-41bf-9ba2-c74fa7329b0f",
      "cell_type": "code",
      "source": "#  This a simple arithmetic expression to mutiply then add integers\n(3*4)+5",
      "metadata": {
        "trusted": true
      },
      "outputs": [
        {
          "execution_count": 1,
          "output_type": "execute_result",
          "data": {
            "text/plain": "17"
          },
          "metadata": {}
        }
      ],
      "execution_count": 1
    },
    {
      "id": "01d1e780-8d1f-4218-9c94-987febe32617",
      "cell_type": "markdown",
      "source": "# Exercise 9 - Create a code cell to convert minutes to hours",
      "metadata": {}
    },
    {
      "id": "f2b719e5-ad1b-4f64-9634-d629a4751370",
      "cell_type": "code",
      "source": "# This will convert 200 minutes to hours by diving by 60\n200/60",
      "metadata": {
        "trusted": true
      },
      "outputs": [
        {
          "execution_count": 2,
          "output_type": "execute_result",
          "data": {
            "text/plain": "3.3333333333333335"
          },
          "metadata": {}
        }
      ],
      "execution_count": 2
    },
    {
      "id": "0e58fa6d-2889-40fa-a280-3324389ff5d2",
      "cell_type": "markdown",
      "source": "# Exercise 10 - Insert a markdown cell to list Objectives\n\n**Obejctives**\n\n- List popular languages for data \n- Identify commonly used libraries in Data Science\n- Create and format tables using Markdown \n- Perform basic arithmetic operations in Python\n- Convert Units (e.g., Minutes to hours) using python code",
      "metadata": {}
    },
    {
      "id": "b3e1de12-8c7e-44e6-8e7a-d5bf75826710",
      "cell_type": "markdown",
      "source": "# Exercise 11 - Create a markdown cell to indicate the Author's name\n\n## Author\nRohit Sharma",
      "metadata": {}
    },
    {
      "id": "42ff4d13-5798-4c08-906b-dcd484f24cce",
      "cell_type": "code",
      "source": "",
      "metadata": {
        "trusted": true
      },
      "outputs": [],
      "execution_count": null
    }
  ]
}